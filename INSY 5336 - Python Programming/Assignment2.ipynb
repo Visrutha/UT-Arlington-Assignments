{
  "nbformat": 4,
  "nbformat_minor": 0,
  "metadata": {
    "colab": {
      "provenance": []
    },
    "kernelspec": {
      "name": "python3",
      "display_name": "Python 3"
    },
    "language_info": {
      "name": "python"
    }
  },
  "cells": [
    {
      "cell_type": "code",
      "source": [
        "#Mounting the drive\n",
        "from google.colab import drive\n",
        "drive.mount('/content/drive')"
      ],
      "metadata": {
        "colab": {
          "base_uri": "https://localhost:8080/"
        },
        "id": "4hsXTIQzKE8h",
        "outputId": "ec3bb390-4693-42cf-9d08-7de6d7621513"
      },
      "execution_count": null,
      "outputs": [
        {
          "output_type": "stream",
          "name": "stdout",
          "text": [
            "Drive already mounted at /content/drive; to attempt to forcibly remount, call drive.mount(\"/content/drive\", force_remount=True).\n"
          ]
        }
      ]
    },
    {
      "cell_type": "markdown",
      "source": [
        "# Question - 1"
      ],
      "metadata": {
        "id": "Lu7Y_j_pd4SG"
      }
    },
    {
      "cell_type": "markdown",
      "source": [
        "Write a Python program to ask the user’s choice of Rock paper scissors. The program then, randomly, chooses a choice for itself (the computer) and then compares it with the user’s choice. The output should show, the user’s choice, the program’s choice and the winner.  "
      ],
      "metadata": {
        "id": "0iFP4e5w8WsR"
      }
    },
    {
      "cell_type": "markdown",
      "source": [
        "## Algorithm:\n",
        "\n",
        "*Step-1:* Define the variables for calculating user and computer points, storing user and computer choices and a list of all the options available - rock,paper,scissors.\n",
        "\n",
        "*Step-2:* Create a while loop for running 10 times and after the 10th round, based on the consent of the player - yes/no.\n",
        "\n",
        "*Step-3:* Get user input of rock, paper or scissors. Check for validity, else ask the input again.\n",
        "\n",
        "*Step-4:* Get the computer's choice using randim.choice() function and store both in their respective lists.\n",
        "\n",
        "*Step-5:* Use condtional statements to find the winner and append the same in the 'winner' list for each round.\n",
        "\n",
        "*Step-6:* Count every iteration and after the 10th round, get user input if they want to continue.\n",
        "\n",
        "*Step-7:* Print the output of the data collection at each round using pandas dataframe."
      ],
      "metadata": {
        "id": "RplwudsKhLfu"
      }
    },
    {
      "cell_type": "code",
      "source": [
        "#Importing necessary libraries\n",
        "import random\n",
        "import pandas as pd\n",
        "\n",
        "#Defining variables\n",
        "choose = ['rock','paper','scissors']\n",
        "count = 1\n",
        "user_input = []\n",
        "comp_input = []\n",
        "winner = []\n",
        "user_point = 0\n",
        "computer_point = 0\n",
        "do_you_want_to_continue = 'y'\n",
        "\n",
        "#Loop for the first 10 iterations and until player says 'no'\n",
        "while count < 9 or do_you_want_to_continue == 'y':\n",
        "  user = input(\"Enter your choice (Rock/Paper/Scissors): \").lower() #Getting user input\n",
        "  if not user == 'rock' and not user == 'paper' and not user == 'scissors':\n",
        "    print(\"ERROR: Enter valid input\")\n",
        "    user = input(\"Enter your choice (Rock/Paper/Scissors): \").lower()\n",
        "  computer = random.choice(choose) #Computer choice\n",
        "  print(\"Computer chooses\",computer)\n",
        "  user_input.append(user) #Storing user inputs in list\n",
        "  comp_input.append(computer) #Storing computer inputs in list\n",
        "  \n",
        "  if computer == user: #Condition for tie\n",
        "    print(\"User and Computer are TIE\")\n",
        "    winner.append(\"Tie\")\n",
        "  elif (user == 'rock' and computer =='scissors') or (user == 'scissors' and computer == 'paper') or (user == 'paper' and computer == 'rock'): #Condition for user wining\n",
        "    print(\"You, the USER, Wins\")\n",
        "    user_point += 1\n",
        "    winner.append(\"User\")\n",
        "  elif (computer == 'rock' and user =='scissors') or (computer == 'scissors' and user == 'paper') or (computer == 'paper' and user == 'rock'): #Condition for computer wining\n",
        "    print(\"I, the COMPUTER, Wins\")\n",
        "    computer_point +=1\n",
        "    winner.append(\"Computer\")\n",
        "  else:\n",
        "    break\n",
        "  count+=1 #Counting the number of iterations\n",
        "\n",
        "  if count > 10: #Asking the user for consent to continue after 10 rounds\n",
        "    do_you_want_to_continue = input(\"Do you wish to continue? (y/n): \").lower()\n",
        "\n",
        "#Output\n",
        "print(\"\\n=============\")\n",
        "print(\"TOTAL ROUNDS \",count-1)\n",
        "print(\"=============\")\n",
        "\n",
        "df = pd.DataFrame(zip(user_input,comp_input,winner),columns=[\"User Input\",\"Computer Input\",\"Winner\"]) #Pandas dataframe to tabulate output\n",
        "display(df)\n",
        "\n",
        "if(user_point > computer_point):\n",
        "  print(\"\\n!!!***USER WINS***!!!\")\n",
        "else:\n",
        "  print(\"\\n!!!***COMPUTER WINS***!!!\")"
      ],
      "metadata": {
        "colab": {
          "base_uri": "https://localhost:8080/",
          "height": 1000
        },
        "id": "B005O1h08Vhz",
        "outputId": "47242631-9fc8-467d-d89b-544018b882e8"
      },
      "execution_count": null,
      "outputs": [
        {
          "output_type": "stream",
          "name": "stdout",
          "text": [
            "Enter your choice (Rock/Paper/Scissors): rock\n",
            "Computer chooses rock\n",
            "User and Computer are TIE\n",
            "Enter your choice (Rock/Paper/Scissors): rock\n",
            "Computer chooses rock\n",
            "User and Computer are TIE\n",
            "Enter your choice (Rock/Paper/Scissors): rock\n",
            "Computer chooses scissors\n",
            "You, the USER, Wins\n",
            "Enter your choice (Rock/Paper/Scissors): rock\n",
            "Computer chooses scissors\n",
            "You, the USER, Wins\n",
            "Enter your choice (Rock/Paper/Scissors): rock\n",
            "Computer chooses paper\n",
            "I, the COMPUTER, Wins\n",
            "Enter your choice (Rock/Paper/Scissors): rock\n",
            "Computer chooses rock\n",
            "User and Computer are TIE\n",
            "Enter your choice (Rock/Paper/Scissors): rock\n",
            "Computer chooses paper\n",
            "I, the COMPUTER, Wins\n",
            "Enter your choice (Rock/Paper/Scissors): rock\n",
            "Computer chooses scissors\n",
            "You, the USER, Wins\n",
            "Enter your choice (Rock/Paper/Scissors): rock\n",
            "Computer chooses scissors\n",
            "You, the USER, Wins\n",
            "Enter your choice (Rock/Paper/Scissors): rock\n",
            "Computer chooses paper\n",
            "I, the COMPUTER, Wins\n",
            "Do you wish to continue? (y/n): n\n",
            "\n",
            "=============\n",
            "TOTAL ROUNDS  10\n",
            "=============\n"
          ]
        },
        {
          "output_type": "display_data",
          "data": {
            "text/plain": [
              "  User Input Computer Input    Winner\n",
              "0       rock           rock       Tie\n",
              "1       rock           rock       Tie\n",
              "2       rock       scissors      User\n",
              "3       rock       scissors      User\n",
              "4       rock          paper  Computer\n",
              "5       rock           rock       Tie\n",
              "6       rock          paper  Computer\n",
              "7       rock       scissors      User\n",
              "8       rock       scissors      User\n",
              "9       rock          paper  Computer"
            ],
            "text/html": [
              "\n",
              "  <div id=\"df-4d9e2068-5ad3-402e-b29d-eacbb7c0186b\">\n",
              "    <div class=\"colab-df-container\">\n",
              "      <div>\n",
              "<style scoped>\n",
              "    .dataframe tbody tr th:only-of-type {\n",
              "        vertical-align: middle;\n",
              "    }\n",
              "\n",
              "    .dataframe tbody tr th {\n",
              "        vertical-align: top;\n",
              "    }\n",
              "\n",
              "    .dataframe thead th {\n",
              "        text-align: right;\n",
              "    }\n",
              "</style>\n",
              "<table border=\"1\" class=\"dataframe\">\n",
              "  <thead>\n",
              "    <tr style=\"text-align: right;\">\n",
              "      <th></th>\n",
              "      <th>User Input</th>\n",
              "      <th>Computer Input</th>\n",
              "      <th>Winner</th>\n",
              "    </tr>\n",
              "  </thead>\n",
              "  <tbody>\n",
              "    <tr>\n",
              "      <th>0</th>\n",
              "      <td>rock</td>\n",
              "      <td>rock</td>\n",
              "      <td>Tie</td>\n",
              "    </tr>\n",
              "    <tr>\n",
              "      <th>1</th>\n",
              "      <td>rock</td>\n",
              "      <td>rock</td>\n",
              "      <td>Tie</td>\n",
              "    </tr>\n",
              "    <tr>\n",
              "      <th>2</th>\n",
              "      <td>rock</td>\n",
              "      <td>scissors</td>\n",
              "      <td>User</td>\n",
              "    </tr>\n",
              "    <tr>\n",
              "      <th>3</th>\n",
              "      <td>rock</td>\n",
              "      <td>scissors</td>\n",
              "      <td>User</td>\n",
              "    </tr>\n",
              "    <tr>\n",
              "      <th>4</th>\n",
              "      <td>rock</td>\n",
              "      <td>paper</td>\n",
              "      <td>Computer</td>\n",
              "    </tr>\n",
              "    <tr>\n",
              "      <th>5</th>\n",
              "      <td>rock</td>\n",
              "      <td>rock</td>\n",
              "      <td>Tie</td>\n",
              "    </tr>\n",
              "    <tr>\n",
              "      <th>6</th>\n",
              "      <td>rock</td>\n",
              "      <td>paper</td>\n",
              "      <td>Computer</td>\n",
              "    </tr>\n",
              "    <tr>\n",
              "      <th>7</th>\n",
              "      <td>rock</td>\n",
              "      <td>scissors</td>\n",
              "      <td>User</td>\n",
              "    </tr>\n",
              "    <tr>\n",
              "      <th>8</th>\n",
              "      <td>rock</td>\n",
              "      <td>scissors</td>\n",
              "      <td>User</td>\n",
              "    </tr>\n",
              "    <tr>\n",
              "      <th>9</th>\n",
              "      <td>rock</td>\n",
              "      <td>paper</td>\n",
              "      <td>Computer</td>\n",
              "    </tr>\n",
              "  </tbody>\n",
              "</table>\n",
              "</div>\n",
              "      <button class=\"colab-df-convert\" onclick=\"convertToInteractive('df-4d9e2068-5ad3-402e-b29d-eacbb7c0186b')\"\n",
              "              title=\"Convert this dataframe to an interactive table.\"\n",
              "              style=\"display:none;\">\n",
              "        \n",
              "  <svg xmlns=\"http://www.w3.org/2000/svg\" height=\"24px\"viewBox=\"0 0 24 24\"\n",
              "       width=\"24px\">\n",
              "    <path d=\"M0 0h24v24H0V0z\" fill=\"none\"/>\n",
              "    <path d=\"M18.56 5.44l.94 2.06.94-2.06 2.06-.94-2.06-.94-.94-2.06-.94 2.06-2.06.94zm-11 1L8.5 8.5l.94-2.06 2.06-.94-2.06-.94L8.5 2.5l-.94 2.06-2.06.94zm10 10l.94 2.06.94-2.06 2.06-.94-2.06-.94-.94-2.06-.94 2.06-2.06.94z\"/><path d=\"M17.41 7.96l-1.37-1.37c-.4-.4-.92-.59-1.43-.59-.52 0-1.04.2-1.43.59L10.3 9.45l-7.72 7.72c-.78.78-.78 2.05 0 2.83L4 21.41c.39.39.9.59 1.41.59.51 0 1.02-.2 1.41-.59l7.78-7.78 2.81-2.81c.8-.78.8-2.07 0-2.86zM5.41 20L4 18.59l7.72-7.72 1.47 1.35L5.41 20z\"/>\n",
              "  </svg>\n",
              "      </button>\n",
              "      \n",
              "  <style>\n",
              "    .colab-df-container {\n",
              "      display:flex;\n",
              "      flex-wrap:wrap;\n",
              "      gap: 12px;\n",
              "    }\n",
              "\n",
              "    .colab-df-convert {\n",
              "      background-color: #E8F0FE;\n",
              "      border: none;\n",
              "      border-radius: 50%;\n",
              "      cursor: pointer;\n",
              "      display: none;\n",
              "      fill: #1967D2;\n",
              "      height: 32px;\n",
              "      padding: 0 0 0 0;\n",
              "      width: 32px;\n",
              "    }\n",
              "\n",
              "    .colab-df-convert:hover {\n",
              "      background-color: #E2EBFA;\n",
              "      box-shadow: 0px 1px 2px rgba(60, 64, 67, 0.3), 0px 1px 3px 1px rgba(60, 64, 67, 0.15);\n",
              "      fill: #174EA6;\n",
              "    }\n",
              "\n",
              "    [theme=dark] .colab-df-convert {\n",
              "      background-color: #3B4455;\n",
              "      fill: #D2E3FC;\n",
              "    }\n",
              "\n",
              "    [theme=dark] .colab-df-convert:hover {\n",
              "      background-color: #434B5C;\n",
              "      box-shadow: 0px 1px 3px 1px rgba(0, 0, 0, 0.15);\n",
              "      filter: drop-shadow(0px 1px 2px rgba(0, 0, 0, 0.3));\n",
              "      fill: #FFFFFF;\n",
              "    }\n",
              "  </style>\n",
              "\n",
              "      <script>\n",
              "        const buttonEl =\n",
              "          document.querySelector('#df-4d9e2068-5ad3-402e-b29d-eacbb7c0186b button.colab-df-convert');\n",
              "        buttonEl.style.display =\n",
              "          google.colab.kernel.accessAllowed ? 'block' : 'none';\n",
              "\n",
              "        async function convertToInteractive(key) {\n",
              "          const element = document.querySelector('#df-4d9e2068-5ad3-402e-b29d-eacbb7c0186b');\n",
              "          const dataTable =\n",
              "            await google.colab.kernel.invokeFunction('convertToInteractive',\n",
              "                                                     [key], {});\n",
              "          if (!dataTable) return;\n",
              "\n",
              "          const docLinkHtml = 'Like what you see? Visit the ' +\n",
              "            '<a target=\"_blank\" href=https://colab.research.google.com/notebooks/data_table.ipynb>data table notebook</a>'\n",
              "            + ' to learn more about interactive tables.';\n",
              "          element.innerHTML = '';\n",
              "          dataTable['output_type'] = 'display_data';\n",
              "          await google.colab.output.renderOutput(dataTable, element);\n",
              "          const docLink = document.createElement('div');\n",
              "          docLink.innerHTML = docLinkHtml;\n",
              "          element.appendChild(docLink);\n",
              "        }\n",
              "      </script>\n",
              "    </div>\n",
              "  </div>\n",
              "  "
            ]
          },
          "metadata": {}
        },
        {
          "output_type": "stream",
          "name": "stdout",
          "text": [
            "\n",
            "!!!***USER WINS***!!!\n"
          ]
        }
      ]
    },
    {
      "cell_type": "markdown",
      "source": [
        "# Question - 2"
      ],
      "metadata": {
        "id": "gzyciVZ7fJFm"
      }
    },
    {
      "cell_type": "markdown",
      "source": [
        "Write a program where the user and the program/computer play a number guessing game. The program should prompt the user for a number (between 1 and 100, inclusive) then the program/computer has to guess what the user entered. Keep track of the number of iterations it takes for the computer to guess the number. "
      ],
      "metadata": {
        "id": "-i6cP75q57yH"
      }
    },
    {
      "cell_type": "markdown",
      "source": [
        "## Algorithm:\n",
        "*Step-1:* Inport the libraies and define the variable for counting the iterations.\n",
        "\n",
        "*Step-2:* Use try-except block to check for exceptions based on the input\n",
        "\n",
        "*Step-3:* Check if the input is in the valid range between 1 and 100.\n",
        "\n",
        "*Step-4:* Create a while loop till the number has been guessed.\n",
        "\n",
        "*Step 5:* Use random.randint() function to guess numbers each iteration and create a condition to check if the number guessed is equal to the user input.\n",
        "\n",
        "*Step-6:* Count the number of iterations it takes to guess the right number. Print the output using the same."
      ],
      "metadata": {
        "id": "qJGIBYBdizQy"
      }
    },
    {
      "cell_type": "code",
      "source": [
        "#Import necessary libraries\n",
        "import random \n",
        "\n",
        "#Defining variables\n",
        "guess = 0\n",
        "count = 1\n",
        "try:\n",
        "  number = int(input(\"Enter the number to be guessed: \")) #Getting the input\n",
        "except Exception as e: #Raising an exception if the input is not an int\n",
        "  print(\"Exception raised -\",e)\n",
        "  print(\"Invalid Input\")\n",
        "else:\n",
        "  if number > 100 or number < 1: #Checking if input is in the valid range\n",
        "    print(\"ERROR: Enter a valid number between 1 and 100\")\n",
        "    number = int(input(\"Enter the number to be guessed: \"))\n",
        "\n",
        "  #Iterating loop till the number is guessed right\n",
        "  while not guess == number: \n",
        "    guess = random.randint(1,100) #Guessing number using randint() function\n",
        "    print(\"Guess: \",guess)\n",
        "    if guess == number:\n",
        "      break\n",
        "    else:\n",
        "      count+=1 #Counting the number of iterations\n",
        "\n",
        "  #Output\n",
        "  print(\"You entered\",number,\"and it took the program\",count,\"iterations to guess\")"
      ],
      "metadata": {
        "colab": {
          "base_uri": "https://localhost:8080/"
        },
        "id": "mr0OEfUd6DpQ",
        "outputId": "a82f2c9a-2038-495b-c36f-b6239b43ffaf"
      },
      "execution_count": null,
      "outputs": [
        {
          "output_type": "stream",
          "name": "stdout",
          "text": [
            "Enter the number to be guessed: 50\n",
            "Guess:  6\n",
            "Guess:  22\n",
            "Guess:  17\n",
            "Guess:  66\n",
            "Guess:  41\n",
            "Guess:  12\n",
            "Guess:  88\n",
            "Guess:  24\n",
            "Guess:  83\n",
            "Guess:  38\n",
            "Guess:  50\n",
            "You entered 50 and it took the program 11 iterations to guess\n"
          ]
        }
      ]
    },
    {
      "cell_type": "markdown",
      "source": [
        "# Question - 3"
      ],
      "metadata": {
        "id": "XLj7EHOtfMEp"
      }
    },
    {
      "cell_type": "markdown",
      "source": [
        "Write a function that accepts a line of text and a single letter as input and returns the number of times the letter is the first character of a word."
      ],
      "metadata": {
        "id": "AQZhYfVO4Ffk"
      }
    },
    {
      "cell_type": "markdown",
      "source": [
        "## Algorithm:\n",
        "*Step-1:* Declare the variables\n",
        "\n",
        "*Step-2:* Get the input for the sentence and letter to check\n",
        "\n",
        "*Step-3:* Check the validiity of the letter and ask for a valid input.\n",
        "\n",
        "*Step-4:* Count the presence of input letter in the sentence as the first letter in a word.\n",
        "\n",
        "*Step-5:* Print the output count"
      ],
      "metadata": {
        "id": "F422v1bclnwC"
      }
    },
    {
      "cell_type": "code",
      "source": [
        "#Declaring the variables\n",
        "count = 0\n",
        "sentence = \"\"\n",
        "letter = \"\"\n",
        "try:\n",
        "  sentence = input(\"Enter your line of text: \").lower() #Get the input string\n",
        "  letter = input(\"Enter your letter to use: \") #Get the letter\n",
        "except Exception as e:\n",
        "  print(\"Exception raised -\",e)\n",
        "  print(\"Invalid input\")\n",
        "else:\n",
        "  if not len(letter)==1:\n",
        "    letter = input(\"Enter valid letter to use: \") #valid input\n",
        "  if sentence[0] == letter: #Checking if the first letter of the sentence has the input letter as head\n",
        "    count = 1\n",
        "  #Calculating the count of words with that letter as the head\n",
        "  for i in range(0,len(sentence)):\n",
        "    if sentence[i] == \" \":\n",
        "      if sentence[i+1] == letter:\n",
        "        count += 1\n",
        "      else:\n",
        "        continue\n",
        "    else:\n",
        "      continue\n",
        "\n",
        "  #Output\n",
        "  print(\"Your letter\",letter,\"occurs as the first letter:\",count,\"times\")"
      ],
      "metadata": {
        "colab": {
          "base_uri": "https://localhost:8080/"
        },
        "id": "xurtRkew4OjB",
        "outputId": "47a9d98e-87f7-474d-a005-9a6c07e1a319"
      },
      "execution_count": null,
      "outputs": [
        {
          "output_type": "stream",
          "name": "stdout",
          "text": [
            "Enter your line of text: Where the mind is without fear and the head is held  high\n",
            "Enter your letter to use: h\n",
            "Your letter h occurs as the first letter: 3 times\n"
          ]
        }
      ]
    },
    {
      "cell_type": "markdown",
      "source": [
        "# Question - 4"
      ],
      "metadata": {
        "id": "xRM1hPRXfOBZ"
      }
    },
    {
      "cell_type": "markdown",
      "source": [
        "A palindrome is string that reads the same forwards and backwards. Write a  Python program that reads in a string and determines whether the string is a palindrome or not. Note that a sentence that reads the same forwards and backwards by resequencing the spaces is also a palindrome and your program should consider this. "
      ],
      "metadata": {
        "id": "LfG8gIIzfVOM"
      }
    },
    {
      "cell_type": "markdown",
      "source": [
        "## Algorithm:\n",
        "\n",
        "*Step-1:* Get the input sentence/word - string.\n",
        "\n",
        "*Step-2:* Remove the spaces in the sentence.\n",
        "\n",
        "*Step-3:* Decalre a new variable that holds the reverse version of the input string.\n",
        "\n",
        "*Step-4:* Check for equality between the string and its reverse and print the output."
      ],
      "metadata": {
        "id": "Ikdo3MROmbTR"
      }
    },
    {
      "cell_type": "code",
      "source": [
        "#Getting input of the string\n",
        "word = input(\"Enter the string: \").lower()\n",
        "word = word.replace(\" \",\"\") #Removing the spaces in case of sentence\n",
        "\n",
        "word_reverse = word[::-1]#Creating a reverse of the word entered\n",
        "\n",
        "#Comparing string and its reverse\n",
        "if word == word_reverse:\n",
        "  print(\"It is a palindrome\")\n",
        "else:\n",
        "  print(\"It is not a palindrome\")"
      ],
      "metadata": {
        "colab": {
          "base_uri": "https://localhost:8080/"
        },
        "id": "kRWm4Qo1fTvv",
        "outputId": "c2959ef7-62df-46fa-d388-5a132b2d65bf"
      },
      "execution_count": null,
      "outputs": [
        {
          "output_type": "stream",
          "name": "stdout",
          "text": [
            "Enter the string: A nut for a jar of tuna\n",
            "It is a palindrome\n"
          ]
        }
      ]
    },
    {
      "cell_type": "markdown",
      "source": [
        "# Question - 5"
      ],
      "metadata": {
        "id": "j0APVxLHfP-g"
      }
    },
    {
      "cell_type": "markdown",
      "source": [
        "Write a program to request a file name from the user and calculate the following statistics of the contents of the file: \n",
        "\n",
        "\n",
        "*   Number of lines \n",
        "*   Number of words \n",
        "*   Number of characters \n",
        "*   Average length of a word "
      ],
      "metadata": {
        "id": "6t3kyKauPYyL"
      }
    },
    {
      "cell_type": "markdown",
      "source": [
        "## Algorithm:\n",
        "\n",
        "*Step-1:* Get the filename from the user.\n",
        "\n",
        "*Step-2:* Declare variables to store the count of character, word, lines and avergae respectively.\n",
        "\n",
        "*Step-3:* Use a try-except block to check if a valid filename is given as input and then open and read the file.\n",
        "\n",
        "*Step-4:* Split the words in the file using split() functions to get all the words into a list.\n",
        "\n",
        "*Step-5:* Find the length of the list to get the number of words.\n",
        "\n",
        "*Step-6:* Count all the character by running the loop through the read string.\n",
        "\n",
        "*Step-7:* Find the average by summing the length of all words and dividing it by the total number of words.\n",
        "\n",
        "*Step-8:* Print all the output"
      ],
      "metadata": {
        "id": "D9eJwDKkm_RM"
      }
    },
    {
      "cell_type": "code",
      "execution_count": null,
      "metadata": {
        "id": "AxcopaaAd074",
        "colab": {
          "base_uri": "https://localhost:8080/"
        },
        "outputId": "82d7d62d-ff50-43e4-8ef5-af768ba396f6"
      },
      "outputs": [
        {
          "output_type": "stream",
          "name": "stdout",
          "text": [
            "Enter the filename: Robert.txt\n",
            "Number of lines:  4\n",
            "Number of words:  27\n",
            "Number of characters:  132\n",
            "Average length of word: 3.8\n"
          ]
        }
      ],
      "source": [
        "#Declare the variables\n",
        "filename = input(\"Enter the filename: \") #Gets the filename to read\n",
        "words = 0 #to store the word count\n",
        "count = 0 #to store the count of \\n(escape character for new line) at the end of the lines\n",
        "lines = 1 #to store line count\n",
        "characters = 0 #to store character count\n",
        "average = 0 #to store the average\n",
        "try:\n",
        "  with open('/content/drive/My Drive/'+filename, 'r') as f: #File read\n",
        "      data = f.read()\n",
        "except Exception as e:\n",
        "  print(\"File not found, Invalid Input\")\n",
        "  print(\"Exception: \",e)\n",
        "else:      \n",
        "  #Calculating the line count\n",
        "  for i in range(0,len(data)):\n",
        "    if data[i] == \"\\n\":\n",
        "      count+=1\n",
        "      lines +=1\n",
        "    else:\n",
        "      continue\n",
        "\n",
        "  #data_for_word - using split() function to get all the words seperately in a list\n",
        "  data_for_words = data.split()\n",
        "\n",
        "  words = len(data_for_words)\n",
        "  characters = len(data) + count \n",
        "  average = sum(map(len,data_for_words)) / float(len(data_for_words)) #Calculate the average\n",
        "\n",
        "  #Printing the output\n",
        "  print(\"Number of lines: \",lines) \n",
        "  print(\"Number of words: \",words)\n",
        "  print(\"Number of characters: \",characters)\n",
        "  print(\"Average length of word: {:.1f}\".format(average))\n",
        "\n",
        "\n",
        "#Obtained output for robertfrost.txt\n",
        "#-----------------------------------\n",
        "#Number of lines:  4\n",
        "#Number of words:  27\n",
        "#Number of characters:  132\n",
        "#Average length of word: 3.8"
      ]
    }
  ]
}