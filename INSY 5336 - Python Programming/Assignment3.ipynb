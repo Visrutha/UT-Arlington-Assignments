{
  "nbformat": 4,
  "nbformat_minor": 0,
  "metadata": {
    "colab": {
      "provenance": [],
      "collapsed_sections": [
        "oIT04H-K3Ulr",
        "VsXw53MR3yNm",
        "SAQfzGnJGQUy"
      ]
    },
    "kernelspec": {
      "name": "python3",
      "display_name": "Python 3"
    },
    "language_info": {
      "name": "python"
    }
  },
  "cells": [
    {
      "cell_type": "code",
      "execution_count": null,
      "metadata": {
        "id": "M2Sm6n2Pl5EJ",
        "colab": {
          "base_uri": "https://localhost:8080/"
        },
        "outputId": "a99c9d62-f44a-4f55-b671-f72b1ba1eec4"
      },
      "outputs": [
        {
          "output_type": "stream",
          "name": "stdout",
          "text": [
            "Mounted at /content/drive\n"
          ]
        }
      ],
      "source": [
        "#Mounting the drive\n",
        "from google.colab import drive\n",
        "drive.mount('/content/drive')"
      ]
    },
    {
      "cell_type": "markdown",
      "source": [
        "# **QUESTION - 1 : SCRAMBLED WORDS GAME** "
      ],
      "metadata": {
        "id": "oIT04H-K3Ulr"
      }
    },
    {
      "cell_type": "markdown",
      "source": [
        "### ALGORITHM:\n",
        "***Step 1:*** Read the words from the file and split the words and their meanings as key-value pair in dictionary\n",
        "\n",
        "***Step-2:*** Ask the user if they want to play and continue if they respond 'y'.\n",
        "\n",
        "***Step-3:*** Pick a random word from the dictionary using randrange(). Scramble the words using the scramble() function the picked word and display to the user.\n",
        "\n",
        "***Step-4:*** If the user gives '?', tell the meaning. If once again '?', warn the user and then from the next '?', count it as an attempt.\n",
        "\n",
        "***Step-5:*** Ask the user input and compare it to the actual word. If it is wrong, give next chance until the number of attempts reaches the word count.\n",
        "\n",
        "***Step-6:*** If the answer is right, congratulate the user.\n",
        "\n",
        "***Step-7:*** Ask if wnats to try another word. If yes, repeat step-3 to step -6, till the user says 'n' and exit.\n",
        "\n",
        "\n",
        "###ALGORITHM FOR Scramble() FUNCTION\n",
        "***Step-1:*** Import 'shuffle' from 'random' library.\n",
        "\n",
        "***Step-2:*** Create a function that takes the words selected at random as an arguement.\n",
        "\n",
        "***Step-3:*** Convert it into a list of characters in the word and use shuffle() in-built function to scramble the letter.\n",
        "\n",
        "***Step-4:*** Convert it into a string and return it to the main funtion.\n",
        "\n",
        "\n"
      ],
      "metadata": {
        "id": "aV_4r71P3a5O"
      }
    },
    {
      "cell_type": "code",
      "source": [
        "from random import shuffle\n",
        "\n",
        "def scramble(word):\n",
        "  word = list(word)\n",
        "  shuffle(word)\n",
        "  return ''.join(word)"
      ],
      "metadata": {
        "id": "Mm_pwASM2Ehr"
      },
      "execution_count": null,
      "outputs": []
    },
    {
      "cell_type": "code",
      "source": [
        "import random\n",
        "\n",
        "filename = input(\"Enter the filename of the 'words and its meanings' file: \") #Gets the filename to read\n",
        "\n",
        "try:\n",
        "  with open('/content/drive/My Drive/'+filename, 'r') as f: #File read\n",
        "      data = f.read()\n",
        "except Exception as e:\n",
        "  print(\"File not found, Invalid Input\")\n",
        "  print(\"Exception: \",e)\n",
        "else:\n",
        "  list_of_words = data.replace('\\n',',').split(',')\n",
        "  keys = list_of_words[::2]\n",
        "  values = list_of_words[1::2]\n",
        "  word_dictionary = { k:v for (k,v) in zip(keys, values)} \n",
        "  option = input('Do you want to play? (Y/N)').lower()\n",
        "  while option == 'y':\n",
        "    count = 0\n",
        "    count_question_mark = 1\n",
        "    random_index = random.randrange(len(keys))\n",
        "    question = keys[random_index]\n",
        "    word = scramble(list(question))\n",
        "    word_length = len(question)\n",
        "    print('Unscramble the following letters to form a word. Type “?” for the meaning of unscarambled word : ',word)\n",
        "    while not count == word_length:\n",
        "      answer = input(\"Enter the answer ( or ? for the meaning): \")\n",
        "      if answer == '?':\n",
        "        if count_question_mark == 1:\n",
        "          print(word_dictionary[question])\n",
        "          count_question_mark -= 1\n",
        "        elif count_question_mark == 0:\n",
        "          print('You have been given the meaning before. Next time you ask for the meaning it will count as an attempt! ')\n",
        "          count_question_mark -=1\n",
        "        else:\n",
        "          count += 1\n",
        "      else:\n",
        "        count += 1\n",
        "        if answer == question:\n",
        "          print(\"YOU GOT IT !!!\")\n",
        "          break \n",
        "        else:\n",
        "          if count == word_length:\n",
        "            print('Wrong, you have exceeded the number of attempts. Bye!')\n",
        "          else:\n",
        "            print('Wrong, Try again')\n",
        "    option = input('Do you want to play? (Y/N)').lower()\n",
        "  else:\n",
        "    print(\"GOODBYE\")"
      ],
      "metadata": {
        "colab": {
          "base_uri": "https://localhost:8080/"
        },
        "id": "ajjewLyZOAbp",
        "outputId": "09aa37d3-3a55-4742-f4c8-b2828cb4a723"
      },
      "execution_count": null,
      "outputs": [
        {
          "output_type": "stream",
          "name": "stdout",
          "text": [
            "Enter the filename of the 'words and its meanings' file: mywords.txt\n",
            "Do you want to play? (Y/N)y\n",
            "Unscramble the following letters to form a word. Type “?” for the meaning of unscarambled word :  ogenlooytm\n",
            "Enter the answer ( or ? for the meaning): ?\n",
            "study of insects\n",
            "Enter the answer ( or ? for the meaning): ?\n",
            "You have been given the meaning before. Next time you ask for the meaning it will count as an attempt! \n",
            "Enter the answer ( or ? for the meaning): ?\n",
            "Enter the answer ( or ? for the meaning): sj\n",
            "Wrong, Try again\n",
            "Enter the answer ( or ? for the meaning): d\n",
            "Wrong, Try again\n",
            "Enter the answer ( or ? for the meaning): d\n",
            "Wrong, Try again\n",
            "Enter the answer ( or ? for the meaning): d\n",
            "Wrong, Try again\n",
            "Enter the answer ( or ? for the meaning): d\n",
            "Wrong, Try again\n",
            "Enter the answer ( or ? for the meaning): d\n",
            "Wrong, Try again\n",
            "Enter the answer ( or ? for the meaning): d\n",
            "Wrong, Try again\n",
            "Enter the answer ( or ? for the meaning): d\n",
            "Wrong, Try again\n",
            "Enter the answer ( or ? for the meaning): d\n",
            "Wrong, you have exceeded the number of attempts. Bye!\n",
            "Do you want to play? (Y/N)y\n",
            "Unscramble the following letters to form a word. Type “?” for the meaning of unscarambled word :  yperun\n",
            "Enter the answer ( or ? for the meaning): ?\n",
            "extremely poor\n",
            "Enter the answer ( or ? for the meaning): penyf\n",
            "Wrong, Try again\n",
            "Enter the answer ( or ? for the meaning): penury\n",
            "YOU GOT IT !!!\n",
            "Do you want to play? (Y/N)n\n",
            "GOODBYE\n"
          ]
        }
      ]
    },
    {
      "cell_type": "markdown",
      "source": [
        "# **QUESTION - 2 : COSINE SIMILARITY FOR POETRY**"
      ],
      "metadata": {
        "id": "VsXw53MR3yNm"
      }
    },
    {
      "cell_type": "markdown",
      "source": [
        "### ALGORITHM\n",
        "\n",
        "***Step - 1:*** Import necessary functions, initialise list and get the name of the file.\n",
        "\n",
        "***Step-2:*** Remove space using strip() and seperate the author and poem values into seperate lists.\n",
        "\n",
        "***Step-3:*** Get the input of the user's poem and call the calculateVector() function to find the vectors of the poem in file and user input.\n",
        "\n",
        "***Step-4:*** Use spatial library to find cosine distance between the vectors.\n",
        "\n",
        "***Step-5:*** Print the details of cosine distance of each poem with respect to the user input.\n",
        "\n",
        "***Step-6:*** Find the poem with the minimum cosine distance to the user input and print the details of the author and poem.\n",
        "\n",
        "### ALGORITHM FOR calculateVector() FUNCTION\n",
        "***Step-1:*** Create a function that takes user input and lines from file as input. Initialise the lists and variables used.\n",
        "\n",
        "***Step-2:***Create a new list that concatenates both the arguements of the function and change it into a list.\n",
        "\n",
        "***Step-3:*** Iterate through the array and remove '\\' and spaces. Append the words in the an list and use conditional to check if all words present in the both the line and user input are present in the list.\n",
        "\n",
        "***Step-4:*** Create values of vector-1 with the count of words in the poems in files by comparing the lines and the word list. Store the count values in a dictionary.\n",
        "\n",
        "***Step-5:*** Follow step-4 and do the same for the user-input poem lines.\n",
        "\n",
        "***Step-6:*** Return the two dictionaries with the count to the main function."
      ],
      "metadata": {
        "id": "EY7umckh37uG"
      }
    },
    {
      "cell_type": "code",
      "source": [
        "def calculateVector(input,line): \n",
        "  res =[]  \n",
        "  count=0\n",
        "  vector1=[]\n",
        "  vector2=[]\n",
        "  dict1 = {}  \n",
        "  dict2 = {}\n",
        "\n",
        "  #Creating list for storing values of input and lines\n",
        "  newarray = line+' '+input\n",
        "  newarraysplit= newarray.strip()\n",
        "  newarraysplit = newarray.split(\" \")\n",
        "\n",
        "  #Creating a list of all unique words present in both lines and input together\n",
        "  for i in newarraysplit:\n",
        "    if \"/\" in i:\n",
        "      arr=i.split(\"/\")\n",
        "      temp = arr[1].strip()\n",
        "      if arr[0] not in res:\n",
        "        if(len(arr[0])!=0):\n",
        "          res.append(arr[0])\n",
        "      if temp not in res:\n",
        "        if(len(temp)!=0):\n",
        "          res.append(temp)\n",
        "      if \"/\" not in res:\n",
        "        res.append(\"/\") \n",
        "    else:  \n",
        "      if i not in res:\n",
        "        res.append(i)\n",
        "\n",
        "  #Comapre the file poem with the words list and create a dictionary with count\n",
        "  line = line.strip()\n",
        "  linesplit = line.split(\" \")\n",
        "  for i in res: \n",
        "    count=0 \n",
        "    for j in linesplit:\n",
        "        if \"/\" in j:\n",
        "          arr1=j.split(\"/\")\n",
        "          temp = arr[1].strip()\n",
        "          if(arr1[0]==i): \n",
        "            count=count+1\n",
        "          if(arr1[1]==i):\n",
        "            count=count+1\n",
        "          if('/'==i):\n",
        "            count=count+1\n",
        "        else:\n",
        "          if(i==j):\n",
        "            count=count+1\n",
        "    vector1.append(count) #Store word count for file poem\n",
        "\n",
        "  #Create dicitionary to store count as a key-value pair\n",
        "  for key in res:\n",
        "    for value in vector1:\n",
        "      dict1[key] = value \n",
        "      vector1.remove(value)\n",
        "      break \n",
        "\n",
        "  #Compare the user poem with the words list and create a dictionary with count\n",
        "  input = input.strip()\n",
        "  inputsplit = input.split(\" \")\n",
        "  for i in res: \n",
        "    count=0\n",
        "    for j in inputsplit:\n",
        "      if \"/\" in j: \n",
        "        arr1=j.split(\"/\")\n",
        "        temp = arr[1].strip()\n",
        "        if(arr1[0]==i): \n",
        "          count=count+1 \n",
        "        if(arr1[1]==i):\n",
        "          count=count+1\n",
        "        if('/'==i):    \n",
        "          count=count+1\n",
        "      else:\n",
        "          if(i==j):\n",
        "            count=count+1\n",
        "    vector2.append(count) #Store word count for user poem\n",
        "\n",
        "  #Create dicitionary to store count as a key-value pair\n",
        "  for key in res:\n",
        "    for value in vector2:\n",
        "      dict2[key] = value\n",
        "      vector2.remove(value)\n",
        "      break\n",
        "\n",
        "  return dict1,dict2 #Return both dictionaries to calculate cosine distance"
      ],
      "metadata": {
        "id": "47Cm1yje-vul"
      },
      "execution_count": null,
      "outputs": []
    },
    {
      "cell_type": "code",
      "source": [
        "from scipy import spatial\n",
        "\n",
        "#Defining lists\n",
        "author = []\n",
        "poem = []\n",
        "cosinedistance = [] \n",
        "\n",
        "filename2 = input(\"Give me the name of poetry file: \") #Get filename as input\n",
        "\n",
        "\n",
        "try:\n",
        "  with open('/content/drive/My Drive/'+filename2, 'r') as f:\n",
        "    for i in f.readlines():\n",
        "      i = i.rstrip()  #Remove spaces in the sentence\n",
        "      value = i.split(\":\") #Seperate the value of author and poem\n",
        "      author.append(value[0])\n",
        "      poem.append(value[1])\n",
        "\n",
        "    userinput = input(\"Input your poem delineated by “/” for each line:\") #Get user poem input\n",
        "    if userinput == \"\":\n",
        "      print(\"Invalid Input!!, Try again\")\n",
        "    else:\n",
        "      for lines in poem:\n",
        "        v1,v2= calculateVector(userinput,lines) #Function call\n",
        "        vector1=list(v1.values())\n",
        "        vector2=list(v2.values())\n",
        "        cosinedistance.append(spatial.distance.cosine(vector1,vector2)) #Calculate cosine distance with in-built function\n",
        "\n",
        "    #Display the details of all poems and their respective cosine distance with respect to the user input\n",
        "    print(\"\\n------------------------\")\n",
        "    print(\"Cosine distance results:\")\n",
        "    print(\"------------------------\")\n",
        "    for i in range(0,len(cosinedistance)): \n",
        "      print(\"Author:\",author[i])\n",
        "      print(\"Cosine distance:\",cosinedistance[i])\n",
        "\n",
        "    #Find the minimum distance and store the values of the respective poem and author\n",
        "    minimum = 2.0\n",
        "    for i in range(0,len(cosinedistance)):\n",
        "      if(cosinedistance[i]<minimum):\n",
        "        minimum = cosinedistance[i]\n",
        "        authormin= author[i]\n",
        "        poemmin = poem[i]\n",
        "\n",
        "    #Display the details of the nearest poem to the user input\n",
        "    print('\\n----------------------------')\n",
        "    print('Details of the closest poem:')\n",
        "    print('----------------------------')\n",
        "    print('Author:',authormin)\n",
        "    print('Poem:',poemmin)\n",
        "\n",
        "except Exception as e:\n",
        "  print(\"Exception found:\",e)"
      ],
      "metadata": {
        "id": "OmRYx9e7PuG4",
        "colab": {
          "base_uri": "https://localhost:8080/"
        },
        "outputId": "0e2a8643-226b-4aab-eaa5-0e2917b64863"
      },
      "execution_count": null,
      "outputs": [
        {
          "output_type": "stream",
          "name": "stdout",
          "text": [
            "Give me the name of poetry file: poetry_lines.txt\n",
            "Input your poem delineated by “/” for each line:hose  forest  are  these  I  know./He lives in the village/He has no idea I am looking at his property/and seeing  the forest fill up with snow.\n",
            "\n",
            "------------------------\n",
            "Cosine distance results:\n",
            "------------------------\n",
            "Author: William Wordsworth\n",
            "Cosine distance: 0.8009167351547011\n",
            "Author: William Shakespeare\n",
            "Cosine distance: 0.7768481504278316\n",
            "Author: Robert Frost\n",
            "Cosine distance: 0.5453024541563299\n",
            "\n",
            "----------------------------\n",
            "Details of the closest poem:\n",
            "----------------------------\n",
            "Author: Robert Frost\n",
            "Poem:  Whose woods these are I think I know./His house is in the village though;/He will not see me stopping here/To watch his woods fill up with snow.\n"
          ]
        }
      ]
    },
    {
      "cell_type": "markdown",
      "source": [
        "# **QUESTION - 3 : WEB SCRAPING**"
      ],
      "metadata": {
        "id": "SAQfzGnJGQUy"
      }
    },
    {
      "cell_type": "markdown",
      "source": [
        "### ALGORITHM\n",
        "***Step-1:*** In try block, use request.get() function to scrape data from the url and BesutifulSoup() is used to scape data in HTML format\n",
        "\n",
        "***Step-2:*** Open file in 'w' format and use find() funtion to get the price of 'Crude Oil'. Fetch the value, insert both the text and value in the file.\n",
        "\n",
        "***Step-3:*** Repeat step-2 for gold and silver. \n",
        "\n",
        "***Step-4:*** Connect to the database using sqlite3.connect() function.\n",
        "\n",
        "***Step-5:*** Use cur.execute() function to execute the SQL funtions to create table - 'CommodityTable' and insert values into the 'CommodityTable'.\n",
        "\n",
        "***Step-6:*** Use GetTableVal() function to check the entries in database\n",
        "\n",
        "***Step-6:*** Commit the connection and close the connection."
      ],
      "metadata": {
        "id": "RuYEPdl2GV6i"
      }
    },
    {
      "cell_type": "code",
      "source": [
        "def getTableVal():\n",
        "  import sqlite3\n",
        "  Database = \"CommodityDatabase.sqlite\"\n",
        "  conn = sqlite3.connect(Database)\n",
        "\n",
        "  cur = conn.execute(\"select * from CommodityTable\")\n",
        "  tableVal = cur.fetchall()\n",
        "  print(tableVal)"
      ],
      "metadata": {
        "id": "E_j0me5uIQ6U"
      },
      "execution_count": null,
      "outputs": []
    },
    {
      "cell_type": "code",
      "source": [
        "#Importing necessary libraries\n",
        "import requests\n",
        "from bs4 import BeautifulSoup\n",
        "import sqlite3\n",
        "try:\n",
        "    page = requests.get(\"https://finance.yahoo.com/commodities\") #Scrapping data from url\n",
        "    soup = BeautifulSoup(page.content, 'html.parser') #Scrape data in HTML format\n",
        "\n",
        "    file = open(\"commodity_prices.txt\",\"w\")  \n",
        "    crudeoil_value = soup.find(\"fin-streamer\",{\"data-symbol\":\"CL=F\"})  #Using soup.find() function get the price value of Crude oil from the fin-streamer using data symbol\n",
        "    c = crudeoil_value.text #Extracting Crude oil value\n",
        "    x = c.replace(\",\",\"\") \n",
        "    file.write(\"Crude Oil Value is: \")\n",
        "    file.write(x)  \n",
        "\n",
        "    gold_value = soup.find(\"fin-streamer\",{\"data-symbol\":\"GC=F\"})  #Using soup.find() function get the price value of Gold from the fin-streamer using data symbol\n",
        "    g = gold_value.text  #Extracting Gold value           \n",
        "    y = g.replace(\",\",\"\") \n",
        "    file.write(\"\\nGold Value is: \")\n",
        "    file.write(y)\n",
        "\n",
        "    silver_value = soup.find(\"fin-streamer\",{\"data-symbol\":\"SI=F\"})  #Using soup.find() function get the price value of Silver from the fin-streamer using data symbol\n",
        "    s = silver_value.text  #Extracting Silver value\n",
        "    z = s.replace(\",\",\"\")\n",
        "    file.write(\"\\nSilver Value is: \")\n",
        "    file.write(z)\n",
        "    file.close()\n",
        "\n",
        "    CO_value = float(x)\n",
        "    G_value = float(y)\n",
        "    S_value = float(z)\n",
        "\n",
        "    conn = sqlite3.connect('CommodityDatabase.sqlite')\n",
        "    cur = conn.cursor() \n",
        "\n",
        "    cur.execute('DROP TABLE IF EXISTS CommodityTable')              \n",
        "    cur.execute('CREATE TABLE CommodityTable (Ticker TEXT, Price REAL)')  #Create CommodityTable\n",
        "\n",
        "    #Insert values into CommodityTable\n",
        "    cur.execute('INSERT INTO CommodityTable (Ticker, Price) VALUES (?,?)', ('Crude Oil Value', CO_value)) \n",
        "    cur.execute('INSERT INTO CommodityTable (Ticker, Price) VALUES (?,?)', ('Gold Value', G_value))\n",
        "    cur.execute('INSERT INTO CommodityTable (Ticker, Price) VALUES (?,?)', ('Silver Value', S_value))\n",
        "\n",
        "    conn.commit()  #Commit the changes in database\n",
        "    cur.close()\n",
        "    conn.close()\n",
        "    \n",
        "    #Check values in database by printing the values in table\n",
        "    getTableVal()\n",
        "    \n",
        "except Exception as e:\n",
        "    print(\"Exception Found:\",e)"
      ],
      "metadata": {
        "id": "JT6kQLwvGgLJ",
        "colab": {
          "base_uri": "https://localhost:8080/"
        },
        "outputId": "d8750ea1-f92c-4e85-b93d-62399b2e79a3"
      },
      "execution_count": null,
      "outputs": [
        {
          "output_type": "stream",
          "name": "stdout",
          "text": [
            "[('Crude Oil Value', 72.46), ('Gold Value', 1794.1), ('Silver Value', 22.76)]\n"
          ]
        }
      ]
    }
  ]
}