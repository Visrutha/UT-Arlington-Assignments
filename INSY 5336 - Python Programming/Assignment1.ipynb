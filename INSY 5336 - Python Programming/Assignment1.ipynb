{
  "nbformat": 4,
  "nbformat_minor": 0,
  "metadata": {
    "colab": {
      "provenance": []
    },
    "kernelspec": {
      "name": "python3",
      "display_name": "Python 3"
    },
    "language_info": {
      "name": "python"
    }
  },
  "cells": [
    {
      "cell_type": "markdown",
      "source": [
        "# **QUESTION-1**"
      ],
      "metadata": {
        "id": "9DVvjn2Ah-ft"
      }
    },
    {
      "cell_type": "markdown",
      "source": [
        "## Question\n",
        "Implement a program that requests three strings from the user. Your program should concatenate the first two strings in the reverse order and compare the concatenated string with the third string. If they are equal, your program \n",
        "should print “They are equal”, otherwise, the program prints “They are not \n",
        "equal”. \n",
        "\n",
        "---\n",
        "\n",
        "## Algorithm\n",
        "**Step 1:** *Get the input of the two words that need to be concatenated and comparison string.*\n",
        "\n",
        "**Step 2:** *Concatenate the first two inputs and assign it to a new variable.*\n",
        "\n",
        "**Step 3:** *Check if the string present in the new variable and comparison string are equal using conditional statement.*\n",
        "\n",
        "**Step 4:** *If they are equal movie to Step-5 or else to Step-6*\n",
        "\n",
        "**Step 5:** *Print the message that the strings are equal*\n",
        "\n",
        "**Step 6:** *Print the message that the strings are not equal*"
      ],
      "metadata": {
        "id": "CfTBSux_yrwU"
      }
    },
    {
      "cell_type": "code",
      "source": [
        "#Getting input of the 3 strings\n",
        "string1 = input(\"Enter first string: \")\n",
        "string2 = input(\"Enter second string: \")\n",
        "string3 = input(\"Enter third string: \")\n",
        "\n",
        "#Concatenating the strings in reverse order\n",
        "inputString = string2 + string1\n",
        "\n",
        "#Comparing the concatenated string and third string\n",
        "if(inputString == string3):\n",
        "  print(\"They are equal!!!\") #Print message if equal\n",
        "else:\n",
        "  print(\"They are not equal\") #Print message if not equal"
      ],
      "metadata": {
        "colab": {
          "base_uri": "https://localhost:8080/"
        },
        "id": "rgduiEnTzeHL",
        "outputId": "4120b4b0-afab-40d5-9e76-db0eafbbb8fd"
      },
      "execution_count": null,
      "outputs": [
        {
          "output_type": "stream",
          "name": "stdout",
          "text": [
            "Enter first string: Thank \n",
            "Enter second string: you\n",
            "Enter third string: youThank\n",
            "They are not equal\n"
          ]
        }
      ]
    },
    {
      "cell_type": "markdown",
      "source": [
        "# **QUESTION-2**"
      ],
      "metadata": {
        "id": "UmKVt0PQiND4"
      }
    },
    {
      "cell_type": "markdown",
      "source": [
        "## Question\n",
        "Write a Python program that reads in 3 integers or 4 integers (user first \n",
        "determines 3 or 4 integers) and displays the following: \n",
        "\n",
        "\n",
        "1.   the average of the numbers (two decimal places suggested) \n",
        "\n",
        "2.   the maximum of the numbers \n",
        "\n",
        "\n",
        "Do not use Python’s internal functions for average and maximum.  \n",
        "\n",
        "---\n",
        "\n",
        "## Algorithm\n",
        "**Step 1:** *Get the input from the user if they want to set the count to 3 or 4.*\n",
        "\n",
        "**Step 2:** *Validate if the number is either 3 or 4, else print a message for invalid input.*\n",
        "\n",
        "**Step 3:** *Create a list for storing the input values for average and maximum value computation.*\n",
        "\n",
        "**Step 4:** *Use a for loop to insert the input values into the list.*\n",
        "\n",
        "**Step 5:** *Call the average and max function to calculate the average of the numbers in the input and highest number of the given input respectively.*\n",
        "\n",
        "**Step 6:** *Print the output.*\n",
        "\n",
        "\n"
      ],
      "metadata": {
        "id": "exymteto0hfU"
      }
    },
    {
      "cell_type": "markdown",
      "source": [
        "### max() function algorithm\n",
        "**Step 1:** *Assign the first value in the list to a variable.*\n",
        "\n",
        "**Step 2:** *Create a for loop and compare the value in the variable and each number in the list.*\n",
        "\n",
        "**Step 3:** *Inside the loop, create a conditional statement that checks if the value of the list is greater than the value in the variable. If so go to Step-4, else continue the loop*\n",
        "\n",
        "**Step 4:** *Assign the number in the index to the variable as maximum value*\n",
        "\n",
        "**Step 5:** *Return the max variable containing the highest number in the list.*"
      ],
      "metadata": {
        "id": "3r8AcQYoMCfo"
      }
    },
    {
      "cell_type": "code",
      "source": [
        "#Function to find the MAX of the given numbers\n",
        "def max(numbers):\n",
        "  max = numbers[0] #Assigning the first number in the list to max for comparing\n",
        "  for i in range(0,len(numbers)):\n",
        "    if numbers[i] > max:\n",
        "      #Comparing the numbers in the list and replacing 'max' if value is greater than the value of the 'max' variable\n",
        "      max = numbers[i] \n",
        "    else:\n",
        "      continue\n",
        "  return max"
      ],
      "metadata": {
        "id": "fPHsVg8dIyf1"
      },
      "execution_count": null,
      "outputs": []
    },
    {
      "cell_type": "markdown",
      "source": [
        "### average() function algorithm\n",
        "**Step 1:** *Create a variable to store the sum of all the numbers in the list.*\n",
        "\n",
        "**Step 2:** *Use a for loop to compute the sum of all numbers and store it in the 'sum' variable.*\n",
        "\n",
        "**Step 3:** *To compute the average divide the sum of all the numbers by the total number of values present in the list and assign it to a new variable.*\n",
        "\n",
        "**Step 4:** *Return the average of the numbers to the main function.*"
      ],
      "metadata": {
        "id": "UFoJfkkJM7y_"
      }
    },
    {
      "cell_type": "code",
      "source": [
        "#Function to find the AVERAGE of the given numbers\n",
        "def average(numbers):\n",
        "  sum = 0\n",
        "  for i in range(0,len(numbers)):\n",
        "    sum += numbers[i]\n",
        "  avg = sum/len(numbers) #average = (sum of all numbers in the list)/(count of the numbers in list)\n",
        "  return avg    "
      ],
      "metadata": {
        "id": "GZY8fffXIyoj"
      },
      "execution_count": null,
      "outputs": []
    },
    {
      "cell_type": "code",
      "source": [
        "#Get input for the number of values inserted(choose 3 or 4)\n",
        "input_count = int(input(\"Enter the set of 3 or 4 integers: \"))\n",
        "\n",
        "#Validating if the number of input is 3 or 4 and excluding others\n",
        "if(input_count != 3 and input_count != 4):\n",
        "  print(\"Invalid input\")\n",
        "else:\n",
        "  numbers = []\n",
        "  #print(\"Enter the\",input_count,\"numbers: \")\n",
        "  for i in range(0,input_count):\n",
        "    print(\"Enter the\",i+1,\"number: \",end='')\n",
        "    numbers.append(int(input())) #Getting the input numbers\n",
        "\n",
        "  #Function call to calculate average and max\n",
        "  average_of_numbers = average(numbers)\n",
        "  maximum_of_numbers = max(numbers)\n",
        "\n",
        "  #Result output\n",
        "  print(f\"Average = {average_of_numbers:.2f}\")\n",
        "  print(\"Maximum =\", maximum_of_numbers)"
      ],
      "metadata": {
        "colab": {
          "base_uri": "https://localhost:8080/"
        },
        "id": "jdNfCUyN1aYO",
        "outputId": "ca38900a-2ae0-4eb6-d937-85499cbd70e4"
      },
      "execution_count": null,
      "outputs": [
        {
          "output_type": "stream",
          "name": "stdout",
          "text": [
            "Enter the set of 3 or 4 integers: 4\n",
            "Enter the 1 number: 1\n",
            "Enter the 2 number: 2\n",
            "Enter the 3 number: 4\n",
            "Enter the 4 number: 6\n",
            "Average = 3.25\n",
            "Maximum = 6\n"
          ]
        }
      ]
    },
    {
      "cell_type": "markdown",
      "source": [
        "# **QUESTION-3:**"
      ],
      "metadata": {
        "id": "yBtIplrDiahi"
      }
    },
    {
      "cell_type": "markdown",
      "source": [
        "## Question\n",
        "An integer, greater than 1, that is only divisible by 1 and itself is called \n",
        "a prime number. All other numbers greater than 1 are called composite numbers. \n",
        "The integers 0 and 1 are neither prime nor composite. Write a python program \n",
        "that requests a positive integer from the user, determines if it is a prime, \n",
        "composite or neither prime or composite and prints the message.\n",
        "\n",
        "\n",
        "\n",
        "---\n",
        "\n",
        "\n",
        "## Algorithm\n",
        "**Step 1:** *Get input of the number to check from the user.*\n",
        "\n",
        "**Step 2:** *Check if the input is a number. If so type cast it into an interger and go to next step, else print an error message and exit.*\n",
        "\n",
        "**Step 3:** *Now check if the number is greater than 1, if so go to Step 4. If the value is 0 or 1, print the message that the number is neither prime nor composite. Any other input is given, print the error message.*\n",
        "\n",
        "**Step 4:** *To check if the number is prime or not, call the function.*\n"
      ],
      "metadata": {
        "id": "EmC74SCk9e_M"
      }
    },
    {
      "cell_type": "markdown",
      "source": [
        "### prime() function algorithm\n",
        "**Step 1:** *Define a boolean variable isPrime to be TRUE.*\n",
        "\n",
        "**Step 2:** *Create a loop from 2 to the given number.*\n",
        "\n",
        "**Step 3:** *Find the modulus each number in the loop to the input number to determine its reminder. If the reminer is zero, go to step 4, else to step 5.*\n",
        "\n",
        "**Step 4:** *Set isPrime to be False and break the loop.*\n",
        "\n",
        "**Step 5:** *Continue the loop with isPrime to be True.*\n",
        "\n",
        "**Step 6:** *After the loop, print the result based on the isPrime variable value. If it is TRUE, then the input is not prime, else it is.*"
      ],
      "metadata": {
        "id": "_M0oTHIHA-Cs"
      }
    },
    {
      "cell_type": "code",
      "source": [
        "#Function to check PRIME NUMBER\n",
        "def prime(number_input):\n",
        "  isPrime = True\n",
        "  for i in range(2,number_input):\n",
        "    if(number_input % i == 0):\n",
        "      isPrime = False #isPrime - boolean variable to mark as Prime or not\n",
        "      break\n",
        "\n",
        "  if isPrime == True:\n",
        "    print(number_input,\"is a PRIME NUMBER\")\n",
        "  else:\n",
        "    print(number_input,\"is a COMPOSITE NUMBER\")"
      ],
      "metadata": {
        "id": "Tw4cGWQ7Itdx"
      },
      "execution_count": null,
      "outputs": []
    },
    {
      "cell_type": "code",
      "source": [
        "#Getting an input to check if its prime or not\n",
        "number_input = input(\"Enter the number: \")\n",
        "\n",
        "#Conditional statements to check if the input is int\n",
        "if not number_input.isnumeric():\n",
        "  print(\"ERROR : Enter a positive integer\")\n",
        "else:\n",
        "  number_input = int(number_input)\n",
        "  if(number_input == 1 or number_input == 0): #0 and 1 are neither prime nor composite\n",
        "    print(\"It is neither prime nor composite\")\n",
        "\n",
        "  elif(number_input > 1): #Check if PRIME\n",
        "    prime(number_input)\n",
        "\n",
        "  else: #Invalid input for input other than positive integers\n",
        "    print(\"ERROR : Enter a positive integer\")"
      ],
      "metadata": {
        "colab": {
          "base_uri": "https://localhost:8080/"
        },
        "id": "6i0Svxgt-VoA",
        "outputId": "ad236f9a-2ca6-489d-f4b6-3423adb06401"
      },
      "execution_count": null,
      "outputs": [
        {
          "output_type": "stream",
          "name": "stdout",
          "text": [
            "Enter the number: -2.5\n",
            "ERROR : Enter a positive integer\n"
          ]
        }
      ]
    },
    {
      "cell_type": "markdown",
      "source": [
        "# **QUESTION-4**"
      ],
      "metadata": {
        "id": "KDMucAVPiip8"
      }
    },
    {
      "cell_type": "markdown",
      "source": [
        "## Question\n",
        "Implement a Python function with 3 arguments called SimpleInterest(Principle, Interest, Years). The arguments are: \n",
        "\n",
        "\n",
        "1.   A principle amount (float) \n",
        "2.   Interest Rate (0 to 100% as a float) \n",
        "3.   Years (integer) \n",
        "\n",
        "Your function should return the simple interest amount. The formula for a simple interest is (Principle x InterestRate x Years)/100. Write your function definition in one cell and the function calling code below it or in a different cell in Jupyter Notebook. \n",
        "\n",
        "\n",
        "\n",
        "---\n",
        "\n",
        "## Algorithm\n",
        "**Step 1:** *Get input of Principle amount as a float*\n",
        "\n",
        "**Step 2:** *Get input of the interest percentage as a float but to be a value between 0 and 1 (0-100%).*\n",
        "\n",
        "**Step 3:** *Check if the interest value is between 0 and 1 using condtionals. If it is between 0 and 1, go to step 4 or print an error message.*\n",
        "\n",
        "**Step 4:** *Get the input for the number of years as an integer.*\n",
        "\n",
        "**Step 5:** *Call the funtion to compute the simple imterest and assign the output value to a variable.*\n",
        "\n",
        "**Step 6:** *Print the output.*\n",
        "\n"
      ],
      "metadata": {
        "id": "1NQeXzI3_hQS"
      }
    },
    {
      "cell_type": "markdown",
      "source": [
        "### simpleInterest() function algorithm\n",
        "**Step 1:** *Calculate the value of simple interest using the computation formula and assign the output to a variable.*\n",
        "\n",
        "**Step 2:** *Return the output to the main function*"
      ],
      "metadata": {
        "id": "1bb9etJnPw2J"
      }
    },
    {
      "cell_type": "code",
      "source": [
        "#Function to compute the Simple Interest using the given formula\n",
        "def simpleInterest(princ,interest,years):\n",
        "  SI = (princ * interest * years)/100\n",
        "  return SI"
      ],
      "metadata": {
        "id": "ejzdsijMBRKp"
      },
      "execution_count": null,
      "outputs": []
    },
    {
      "cell_type": "code",
      "source": [
        "pr = float(input(\"Enter the principle amount: \"))\n",
        "interest = float(input(\"Enter the interest rate in decimal (between 0 and 1): \"))\n",
        "if(interest >= 0.0 and interest <= 1.0):\n",
        "  years = int(input(\"Enter the years : \"))\n",
        "  Output = simpleInterest(pr,interest,years)\n",
        "  print(f\"The Simple Interest (in 2 decimal places) is {Output:.2f}\")\n",
        "else:\n",
        "  print(\"ERROR: Input a valid percentage\")"
      ],
      "metadata": {
        "colab": {
          "base_uri": "https://localhost:8080/"
        },
        "id": "EtcOcuLXBZjf",
        "outputId": "6d05ca4f-ba9e-4617-d339-6dc0507f76ff"
      },
      "execution_count": null,
      "outputs": [
        {
          "output_type": "stream",
          "name": "stdout",
          "text": [
            "Enter the principle amount: 23\n",
            "Enter the interest rate in decimal (between 0 and 1): 0.5\n",
            "Enter the years : 3\n",
            "The Simple Interest (in 2 decimal places) is 0.34\n"
          ]
        }
      ]
    },
    {
      "cell_type": "markdown",
      "source": [
        "# **QUESTION-5**"
      ],
      "metadata": {
        "id": "cs8l9lBFivqh"
      }
    },
    {
      "cell_type": "markdown",
      "source": [
        "## Question\n",
        "Write a python program for a shopping cart. The program should allow shopper to enter the product name and price. Use loop so that shopper can enter as many inputs as necessary and validate the inputs as product name should be string  and price should be more than $0. At the end, the output should \n",
        "\n",
        "1.   display the total the shopper needs to pay. Use f-string to format the total value for two decimal points and comma. \n",
        "2.   print the name and price for all the entries with appropriate headings.\n",
        "\n",
        "\n",
        "\n",
        "---\n",
        "\n",
        "## Algorithm\n",
        "**Step 1:** *Define all the variables*\n",
        "\n",
        "**Step 2:** *Create a while loop that runs till the user wants to continue.*\n",
        "\n",
        "**Step 3:** *Get the input for the product name and price.*\n",
        "\n",
        "**Step 4:** *Check for the validity of the input. First check if the product name is a string. If so move on to step 6, else to step 5.*\n",
        "\n",
        "**Step 5:** *Print an error message and get the valid input for product name.*\n",
        "\n",
        "**Step 6:** *Check for the validity of the price, if correct move to step 8, else to step 7.*\n",
        "\n",
        "**Step 7:** *Print an error message and get input for price that is greater than 0.*\n",
        "\n",
        "**Step 8:** *Append both the values of input into 2 lists respectively, one for products and another for its respective prices.*\n",
        "\n",
        "**Step 9:** *Use a variable to determine if thr user wants to continue or not, if the user wants to continue, repeat Steps 3-8.*\n",
        "\n",
        "**Step 10:** *Use a for loop to list all the products purchased by the user and use the same to calculate the sum of all prices.*\n",
        "\n",
        "**Step 11:** *Print the output of the total price.*\n"
      ],
      "metadata": {
        "id": "MMOS2d4PP339"
      }
    },
    {
      "cell_type": "code",
      "source": [
        "#Declaring the variables\n",
        "products = []\n",
        "prices = []\n",
        "sum = 0\n",
        "do_you_want_to_add = \"y\"\n",
        "\n",
        "#While loop for multiple input till the user wishes to stop\n",
        "while do_you_want_to_add == \"y\":\n",
        "  product_name = input(\"Enter the name of the product: \") #Getting the product name\n",
        "  price = float(input(\"Enter the price of the product: \"))  #Gettin the proce for the corresponding product\n",
        "\n",
        "  if not product_name.isalpha(): #Check if the product name is valid\n",
        "    print(\"ERROR: Enter a valid product name\")\n",
        "    product_name = input(\"Enter the valid name of the product: \") #Getting valid product name\n",
        "    products.append(product_name) #Inserting the product value to a list\n",
        "  else:\n",
        "    if price < 0.0:\n",
        "      print(\"ERROR: Enter a valid price greater than 0\")\n",
        "      price = float(input(\"Enter the valid price of the product: \"))\n",
        "    products.append(product_name)\n",
        "    prices.append(price)\n",
        "\n",
        "  do_you_want_to_add = input(\"Do you want to add another product? (y/n): \") #Continue process till the user says 'n'(NO)\n",
        "\n",
        "#Printing the output  \n",
        "print(\"\\n--------------------\")\n",
        "print(\"LIST OF ALL PRODUCTS\")\n",
        "print(\"--------------------\")\n",
        "print(\"PRODUCTS\\tPRICES\")\n",
        "for i in range(0, len(products)):\n",
        "  sum += prices[i]  #Calculating the total price\n",
        "  print(products[i],\"\\t\\t\",prices[i])\n",
        "\n",
        "print(f\"\\nTOTAL PRICE = ${sum:,.2f}\")"
      ],
      "metadata": {
        "id": "W7wRST8bRvKC",
        "colab": {
          "base_uri": "https://localhost:8080/"
        },
        "outputId": "64410001-3be9-40f2-e77a-13de9cd9165a"
      },
      "execution_count": null,
      "outputs": [
        {
          "output_type": "stream",
          "name": "stdout",
          "text": [
            "Enter the name of the product: Milk\n",
            "Enter the price of the product: 6.4\n",
            "Do you want to add another product? (y/n): y\n",
            "Enter the name of the product: Oil\n",
            "Enter the price of the product: 12\n",
            "Do you want to add another product? (y/n): y\n",
            "Enter the name of the product: Eggs\n",
            "Enter the price of the product: 45.7\n",
            "Do you want to add another product? (y/n): y\n",
            "Enter the name of the product: Oats\n",
            "Enter the price of the product: 34.6\n",
            "Do you want to add another product? (y/n): y\n",
            "Enter the name of the product: Sofa\n",
            "Enter the price of the product: 1234\n",
            "Do you want to add another product? (y/n): n\n",
            "\n",
            "--------------------\n",
            "LIST OF ALL PRODUCTS\n",
            "--------------------\n",
            "PRODUCTS\tPRICES\n",
            "Milk \t\t 6.4\n",
            "Oil \t\t 12.0\n",
            "Eggs \t\t 45.7\n",
            "Oats \t\t 34.6\n",
            "Sofa \t\t 1234.0\n",
            "\n",
            "TOTAL PRICE = $1,332.70\n"
          ]
        }
      ]
    }
  ]
}